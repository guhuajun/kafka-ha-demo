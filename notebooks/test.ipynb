{
 "cells": [
  {
   "cell_type": "code",
   "execution_count": 1,
   "metadata": {
    "collapsed": false
   },
   "outputs": [
    {
     "name": "stdout",
     "output_type": "stream",
     "text": [
      "Collecting kafka-python\n",
      "  Downloading http://mirrors.aliyun.com/pypi/packages/82/39/aebe3ad518513bbb2260dd84ac21e5c30af860cc4c95b32acbd64b9d9d0d/kafka_python-1.4.6-py2.py3-none-any.whl (259kB)\n",
      "\u001b[K    100% |████████████████████████████████| 266kB 7.4MB/s \n",
      "\u001b[?25hInstalling collected packages: kafka-python\n",
      "Successfully installed kafka-python-1.4.6\n",
      "\u001b[33mYou are using pip version 8.1.0, however version 19.2.1 is available.\n",
      "You should consider upgrading via the 'pip install --upgrade pip' command.\u001b[0m\n"
     ]
    }
   ],
   "source": [
    "# Because we don't want to build a notebook image with kafka-python, we have to install it each time.\n",
    "\n",
    "!pip install kafka-python --index-url http://mirrors.aliyun.com/pypi/simple/ --trusted-host mirrors.aliyun.com"
   ]
  },
  {
   "cell_type": "markdown",
   "metadata": {},
   "source": [
    "# Cluster Metadata"
   ]
  },
  {
   "cell_type": "code",
   "execution_count": 24,
   "metadata": {
    "collapsed": false
   },
   "outputs": [
    {
     "name": "stdout",
     "output_type": "stream",
     "text": [
      "ClusterMetadata(brokers: 0, topics: 0, groups: 0)\n"
     ]
    }
   ],
   "source": [
    "from kafka.cluster import ClusterMetadata\n",
    "\n",
    "servers = ['kafka1:19092']\n",
    "\n",
    "metadata = ClusterMetadata(bootstrap_servers=servers)\n",
    "\n",
    "print(metadata)"
   ]
  },
  {
   "cell_type": "markdown",
   "metadata": {},
   "source": [
    "# Producer"
   ]
  },
  {
   "cell_type": "code",
   "execution_count": 15,
   "metadata": {
    "collapsed": false
   },
   "outputs": [
    {
     "ename": "KeyboardInterrupt",
     "evalue": "",
     "output_type": "error",
     "traceback": [
      "\u001b[1;31m---------------------------------------------------------------------------\u001b[0m",
      "\u001b[1;31mKeyboardInterrupt\u001b[0m                         Traceback (most recent call last)",
      "\u001b[1;32m<ipython-input-15-fa26eba432de>\u001b[0m in \u001b[0;36m<module>\u001b[1;34m()\u001b[0m\n\u001b[0;32m     50\u001b[0m     \u001b[1;32mpass\u001b[0m\u001b[1;33m\u001b[0m\u001b[0m\n\u001b[0;32m     51\u001b[0m \u001b[1;33m\u001b[0m\u001b[0m\n\u001b[1;32m---> 52\u001b[1;33m \u001b[0msend_message\u001b[0m\u001b[1;33m(\u001b[0m\u001b[1;33m)\u001b[0m\u001b[1;33m\u001b[0m\u001b[0m\n\u001b[0m",
      "\u001b[1;32m<ipython-input-15-fa26eba432de>\u001b[0m in \u001b[0;36msend_message\u001b[1;34m()\u001b[0m\n\u001b[0;32m     43\u001b[0m         \u001b[1;32mif\u001b[0m \u001b[0mcounter\u001b[0m \u001b[1;33m%\u001b[0m \u001b[1;36m500\u001b[0m \u001b[1;33m==\u001b[0m \u001b[1;36m0\u001b[0m\u001b[1;33m:\u001b[0m\u001b[1;33m\u001b[0m\u001b[0m\n\u001b[0;32m     44\u001b[0m             \u001b[0mlogger\u001b[0m\u001b[1;33m.\u001b[0m\u001b[0minfo\u001b[0m\u001b[1;33m(\u001b[0m\u001b[1;34m'Sent %s messages.'\u001b[0m\u001b[1;33m,\u001b[0m \u001b[0mstr\u001b[0m\u001b[1;33m(\u001b[0m\u001b[0mcounter\u001b[0m\u001b[1;33m)\u001b[0m\u001b[1;33m)\u001b[0m\u001b[1;33m\u001b[0m\u001b[0m\n\u001b[1;32m---> 45\u001b[1;33m         \u001b[0mtime\u001b[0m\u001b[1;33m.\u001b[0m\u001b[0msleep\u001b[0m\u001b[1;33m(\u001b[0m\u001b[1;36m0.1\u001b[0m\u001b[1;33m)\u001b[0m\u001b[1;33m\u001b[0m\u001b[0m\n\u001b[0m\u001b[0;32m     46\u001b[0m \u001b[1;33m\u001b[0m\u001b[0m\n\u001b[0;32m     47\u001b[0m \u001b[1;32mtry\u001b[0m\u001b[1;33m:\u001b[0m\u001b[1;33m\u001b[0m\u001b[0m\n",
      "\u001b[1;31mKeyboardInterrupt\u001b[0m: "
     ]
    }
   ],
   "source": [
    "import os\n",
    "import logging\n",
    "import time\n",
    "import uuid\n",
    "from datetime import datetime\n",
    "\n",
    "import kafka\n",
    "from kafka import KafkaProducer\n",
    "from kafka.admin import KafkaAdminClient, NewTopic\n",
    "\n",
    "BOOTSTRAP_SERVERS = os.getenv(\"BOOTSTRAP_SERVERS\", \"172.25.0.21:9092\")\n",
    "\n",
    "# change logging config\n",
    "logging.basicConfig(level=logging.INFO,\n",
    "                    format='[%(asctime)s.%(msecs)03d][%(filename)s:%(lineno)d][%(levelname)s]%(message)s',\n",
    "                    datefmt='%Y-%m-%d %H:%M:%S')\n",
    "\n",
    "logger = logging.getLogger(__name__)\n",
    "\n",
    "try:                                                        \n",
    "    producer_delay = float(os.getenv('PRODUCER_DELAY', 1.0))\n",
    "except:                                                     \n",
    "    producer_delay = 1.0                                    \n",
    "logger.info('Producer delay: %s', producer_delay)\n",
    "\n",
    "def create_test_topic():\n",
    "    client_id = 'producer-{0}'.format(str(uuid.uuid4()))\n",
    "    admin_client = KafkaAdminClient(bootstrap_servers=BOOTSTRAP_SERVERS, client_id=client_id)\n",
    "\n",
    "    topic_list = []\n",
    "    topic_list.append(NewTopic(name=\"test\", num_partitions=1, replication_factor=1))\n",
    "    admin_client.create_topics(new_topics=topic_list, validate_only=False)\n",
    "    \n",
    "def send_message():\n",
    "    producer = KafkaProducer(bootstrap_servers=BOOTSTRAP_SERVERS)\n",
    "    counter = 0\n",
    "    while True:\n",
    "        body = '{0}:{1}'.format(datetime.now().strftime(\n",
    "                '%Y-%m-%d %H:%M:%S.%f'), str(uuid.uuid4()))\n",
    "        producer.send('test', str.encode(body))\n",
    "        \n",
    "        counter += 1\n",
    "        if counter % 500 == 0:\n",
    "            logger.info('Sent %s messages.', str(counter))\n",
    "#         time.sleep(0.1)\n",
    "\n",
    "try:\n",
    "    create_test_topic()\n",
    "except Exception:\n",
    "    pass\n",
    "\n",
    "send_message()"
   ]
  }
 ],
 "metadata": {
  "kernelspec": {
   "display_name": "Python 3",
   "language": "python",
   "name": "python3"
  },
  "language_info": {
   "codemirror_mode": {
    "name": "ipython",
    "version": 3
   },
   "file_extension": ".py",
   "mimetype": "text/x-python",
   "name": "python",
   "nbconvert_exporter": "python",
   "pygments_lexer": "ipython3",
   "version": "3.4.3"
  }
 },
 "nbformat": 4,
 "nbformat_minor": 0
}
